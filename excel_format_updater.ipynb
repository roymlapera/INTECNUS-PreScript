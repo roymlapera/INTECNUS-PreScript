{
 "cells": [
  {
   "cell_type": "code",
   "execution_count": null,
   "metadata": {},
   "outputs": [],
   "source": [
    "import openpyxl\n",
    "\n",
    "# Diccionario con las keys y sus valores correspondientes\n",
    "replacements = {\n",
    "    \"antigua\": \"nueva\",\n",
    "    \"viejo\": \"moderno\",\n",
    "    \"obsoleto\": \"actualizado\"\n",
    "}\n",
    "\n",
    "def replace_text_in_excel(file_path):\n",
    "    # Cargar el archivo de Excel\n",
    "    workbook = openpyxl.load_workbook(file_path)\n",
    "\n",
    "    # Iterar sobre todas las pestañas del archivo\n",
    "    for sheet in workbook.sheetnames:\n",
    "        worksheet = workbook[sheet]\n",
    "\n",
    "        # Iterar sobre todas las celdas de la pestaña\n",
    "        for row in worksheet.iter_rows():\n",
    "            for cell in row:\n",
    "                # Verificar si la celda contiene texto\n",
    "                if cell.value and isinstance(cell.value, str):\n",
    "                    # Iterar sobre las keys del diccionario de reemplazos\n",
    "                    for key, value in replacements.items():\n",
    "                        # Reemplazar el texto de la celda si contiene la key\n",
    "                        if key in cell.value:\n",
    "                            cell.value = cell.value.replace(key, value)\n",
    "\n",
    "    # Guardar los cambios en el archivo de Excel\n",
    "    workbook.save(file_path)\n",
    "\n",
    "# Ejemplo de uso\n",
    "replace_text_in_excel(\"archivo.xlsx\")"
   ]
  }
 ],
 "metadata": {
  "kernelspec": {
   "display_name": "prescript-env",
   "language": "python",
   "name": "python3"
  },
  "language_info": {
   "name": "python",
   "version": "3.12.3"
  }
 },
 "nbformat": 4,
 "nbformat_minor": 2
}
