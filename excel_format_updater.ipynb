{
 "cells": [
  {
   "cell_type": "code",
   "execution_count": 2,
   "metadata": {},
   "outputs": [
    {
     "name": "stderr",
     "output_type": "stream",
     "text": [
      "c:\\Users\\roy.lapera\\AppData\\Local\\anaconda3\\envs\\radio-env\\Lib\\site-packages\\openpyxl\\worksheet\\_reader.py:312: UserWarning: Data Validation extension is not supported and will be removed\n",
      "  warn(msg)\n"
     ]
    }
   ],
   "source": [
    "import openpyxl\n",
    "\n",
    "# Diccionario con las keys y sus valores correspondientes\n",
    "replacements = {\n",
    "    \"dvh_superior_abs\": \"V(D)>V_%\",\n",
    "    \"dvh_inferior_abs\": \"V(D)<V_%\",\n",
    "    \"mean_abs\": \"Dmedia\",\n",
    "    \"max_abs\": \"Dmax\",\n",
    "    \"dvh_superior_abs_abs\": \"V(D)>V_cc\",\n",
    "    \"dvh_vol_sup_percent_abs\": \"D(V_%)<D\",\n",
    "    \"dvh_vol_inf_percent_abs\": \"D(V_%)<D\",\n",
    "    \"dvh_vol_sup_abs_abs\": \"D(V_cc)<D\",\n",
    "    \"dvh_vol_inf_abs_abs\": \"D(V_cc)<D\",\n",
    "    \"dvh_superior_percent\": \"ACTUALIZAR\",\n",
    "    \"dvh_inferior_percent\": \"ACTUALIZAR\",\n",
    "    \"mean_percent\": \"ACTUALIZAR\",\n",
    "    \"max_percent\": \"ACTUALIZAR\",\n",
    "}\n",
    "\n",
    "def replace_text_in_excel(file_path):\n",
    "    # Cargar el archivo de Excel\n",
    "    workbook = openpyxl.load_workbook(file_path)\n",
    "\n",
    "    # Iterar sobre todas las pestañas del archivo\n",
    "    for sheet in workbook.sheetnames:\n",
    "        worksheet = workbook[sheet]\n",
    "\n",
    "        # Iterar sobre todas las celdas de la pestaña\n",
    "        for row in worksheet.iter_rows():\n",
    "            for cell in row:\n",
    "                # Verificar si la celda contiene texto\n",
    "                if cell.value and isinstance(cell.value, str):\n",
    "                    # Iterar sobre las keys del diccionario de reemplazos\n",
    "                    for key, value in replacements.items():\n",
    "                        # Reemplazar el texto de la celda si contiene la key\n",
    "                        if key in cell.value:\n",
    "                            cell.value = cell.value.replace(key, value)\n",
    "\n",
    "    # Guardar los cambios en el archivo de Excel\n",
    "    workbook.save(file_path)\n",
    "\n",
    "# Ejemplo de uso\n",
    "replace_text_in_excel(\"Protocolo de constraints - copia.xlsx\")"
   ]
  }
 ],
 "metadata": {
  "kernelspec": {
   "display_name": "prescript-env",
   "language": "python",
   "name": "python3"
  },
  "language_info": {
   "codemirror_mode": {
    "name": "ipython",
    "version": 3
   },
   "file_extension": ".py",
   "mimetype": "text/x-python",
   "name": "python",
   "nbconvert_exporter": "python",
   "pygments_lexer": "ipython3",
   "version": "3.11.4"
  }
 },
 "nbformat": 4,
 "nbformat_minor": 2
}
