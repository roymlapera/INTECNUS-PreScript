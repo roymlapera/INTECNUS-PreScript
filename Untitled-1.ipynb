{
 "cells": [
  {
   "cell_type": "code",
   "execution_count": 1,
   "metadata": {},
   "outputs": [
    {
     "ename": "KeyError",
     "evalue": "'Fecha de Nacimiento'",
     "output_type": "error",
     "traceback": [
      "\u001b[1;31m---------------------------------------------------------------------------\u001b[0m",
      "\u001b[1;31mKeyError\u001b[0m                                  Traceback (most recent call last)",
      "Cell \u001b[1;32mIn[1], line 48\u001b[0m\n\u001b[0;32m     44\u001b[0m app \u001b[38;5;241m=\u001b[39m frontend\u001b[38;5;241m.\u001b[39mApp(contraints_excel_filepath, logo_path)\n\u001b[0;32m     46\u001b[0m app\u001b[38;5;241m.\u001b[39mmainloop()\n\u001b[1;32m---> 48\u001b[0m patient_data_dict, prescription_dict, targets_chart, constraints_chart \u001b[38;5;241m=\u001b[39m backend\u001b[38;5;241m.\u001b[39mprescription_importer(app\u001b[38;5;241m.\u001b[39mdata, contraints_excel_filepath)\n\u001b[0;32m     50\u001b[0m patient_ID \u001b[38;5;241m=\u001b[39m [value \u001b[38;5;28;01mfor\u001b[39;00m key,value \u001b[38;5;129;01min\u001b[39;00m patient_data_dict \u001b[38;5;28;01mif\u001b[39;00m key\u001b[38;5;241m==\u001b[39m\u001b[38;5;124m'\u001b[39m\u001b[38;5;124mHC\u001b[39m\u001b[38;5;124m'\u001b[39m][\u001b[38;5;241m0\u001b[39m]\n\u001b[0;32m     51\u001b[0m patient_name \u001b[38;5;241m=\u001b[39m [value \u001b[38;5;28;01mfor\u001b[39;00m key,value \u001b[38;5;129;01min\u001b[39;00m patient_data_dict \u001b[38;5;28;01mif\u001b[39;00m key\u001b[38;5;241m==\u001b[39m\u001b[38;5;124m'\u001b[39m\u001b[38;5;124mNombres\u001b[39m\u001b[38;5;124m'\u001b[39m][\u001b[38;5;241m0\u001b[39m]\n",
      "File \u001b[1;32m\\\\fs-201-radioterapia.intecnus.org.ar\\software\\PreScript\\backend.py:443\u001b[0m, in \u001b[0;36mprescription_importer\u001b[1;34m(frontend_data, contraints_excel_filepath)\u001b[0m\n\u001b[0;32m    440\u001b[0m \u001b[38;5;28;01mdef\u001b[39;00m \u001b[38;5;21mprescription_importer\u001b[39m(frontend_data, contraints_excel_filepath):\n\u001b[0;32m    441\u001b[0m     \u001b[38;5;66;03m# Datos de paciente\u001b[39;00m\n\u001b[0;32m    442\u001b[0m     \u001b[38;5;66;03m#Agrego edad a la fecha de la precripcion\u001b[39;00m\n\u001b[1;32m--> 443\u001b[0m     frontend_data[\u001b[38;5;124m'\u001b[39m\u001b[38;5;124mEdad\u001b[39m\u001b[38;5;124m'\u001b[39m] \u001b[38;5;241m=\u001b[39m \u001b[38;5;28mstr\u001b[39m(calculate_age(frontend_data[\u001b[38;5;124m'\u001b[39m\u001b[38;5;124mFecha de Nacimiento\u001b[39m\u001b[38;5;124m'\u001b[39m]))\n\u001b[0;32m    445\u001b[0m     \u001b[38;5;66;03m# Importacion de datos de template de prescripcion de excel de constraints\u001b[39;00m\n\u001b[0;32m    446\u001b[0m     prescription_keys \u001b[38;5;241m=\u001b[39m [\u001b[38;5;124m'\u001b[39m\u001b[38;5;124mConclusiones\u001b[39m\u001b[38;5;124m'\u001b[39m, \n\u001b[0;32m    447\u001b[0m                          \u001b[38;5;124m'\u001b[39m\u001b[38;5;124mPlan de Tratamiento\u001b[39m\u001b[38;5;124m'\u001b[39m, \n\u001b[0;32m    448\u001b[0m                          \u001b[38;5;124m'\u001b[39m\u001b[38;5;124mT\u001b[39m\u001b[38;5;130;01m\\u00e9\u001b[39;00m\u001b[38;5;124mcnica\u001b[39m\u001b[38;5;124m'\u001b[39m,\n\u001b[0;32m    449\u001b[0m                          \u001b[38;5;124m'\u001b[39m\u001b[38;5;124mPrescripci\u001b[39m\u001b[38;5;130;01m\\u00f3\u001b[39;00m\u001b[38;5;124mn\u001b[39m\u001b[38;5;124m'\u001b[39m,\n\u001b[0;32m    450\u001b[0m                          \u001b[38;5;124m'\u001b[39m\u001b[38;5;124mProtocolo de Im\u001b[39m\u001b[38;5;130;01m\\u00e1\u001b[39;00m\u001b[38;5;124mgenes\u001b[39m\u001b[38;5;124m'\u001b[39m]\n",
      "\u001b[1;31mKeyError\u001b[0m: 'Fecha de Nacimiento'"
     ]
    }
   ],
   "source": [
    "import frontend\n",
    "import backend\n",
    "from unidecode import unidecode\n",
    "import sys\n",
    "import os\n",
    "\n",
    "def resource_path(relative_path):\n",
    "    \"\"\" Get absolute path to resource, works for dev and for PyInstaller \n",
    "    https://stackoverflow.com/questions/31836104/pyinstaller-and-onefile-how-to-include-an-image-in-the-exe-file\"\"\"\n",
    "\n",
    "    try:\n",
    "        # PyInstaller creates a temp folder and stores path in _MEIPASS\n",
    "        base_path = sys._MEIPASS\n",
    "        #base_path = sys._MEIPASS2\n",
    "    except Exception:\n",
    "        base_path = os.path.abspath(\".\")\n",
    "\n",
    "    return os.path.join(base_path, relative_path)\n",
    "\n",
    "# --------------------------------------------------------------------------------------------\n",
    "\n",
    "institution_contact = {'website': 'http://intecnus.org.ar/',\n",
    "                           'email': 'contacto@intecnus.org.ar',\n",
    "                           'address': 'Ruta Provincial 82 s/n-CP 8400-S.C. de Bariloche, Río Negro, Argentina',\n",
    "                           'phone': 'TE: +54294 4461090'}\n",
    "\n",
    "\n",
    "path = os.path.abspath('').replace('\\\\', '/')\n",
    "\n",
    "header_path = resource_path(path+'/images/'+'CALIDAD.png')\n",
    "\n",
    "logo_path = resource_path(path+'/images/'+'logo.png')\n",
    "\n",
    "watermark_path = resource_path(path+'/images/'+'marca_agua.png')\n",
    "\n",
    "contraints_excel_filepath = resource_path(path+'/protocols/'+'Protocolo de constraints.xlsx')\n",
    "\n",
    "save_path = '//FS-201-Radioterapia.intecnus.org.ar/medicos/PRESCRIPCION/'\n",
    "\n",
    "# save_path = '//FS-201-Radioterapia.intecnus.org.ar/fisicos/8 - Físicos Médicos/Roy/PreScript/'\n",
    "\n",
    "# --------------------------------------------------------------------------------------------\n",
    "\n",
    "app = frontend.App(contraints_excel_filepath, logo_path)\n",
    "\n",
    "app.mainloop()\n",
    "\n",
    "patient_data_dict, prescription_dict, targets_chart, constraints_chart = backend.prescription_importer(app.data, contraints_excel_filepath)\n",
    "\n",
    "patient_ID = [value for key,value in patient_data_dict if key=='HC'][0]\n",
    "patient_name = [value for key,value in patient_data_dict if key=='Nombres'][0]\n",
    "patient_surname = [value for key,value in patient_data_dict if key=='Apellido'][0]\n",
    "patient_presc = prescription_dict['Prescripción']\n",
    "\n",
    "patient_name_noaccent = unidecode(patient_name).upper()\n",
    "patient_surname_noaccent = unidecode(patient_surname).upper()\n",
    "patient_presc_noaccent = unidecode(patient_presc)\n",
    "\n",
    "pdfname = save_path+f'{patient_ID}_{patient_surname_noaccent}_{patient_name_noaccent}_({patient_presc_noaccent}).pdf'\n",
    "\n",
    "backend.generate_print_pdf(pdfname, institution_contact, header_path, watermark_path, contraints_excel_filepath, patient_data_dict, prescription_dict, targets_chart, constraints_chart)\n",
    "\n",
    "# --------------------------------------------------------------------------------------------\n",
    "\n",
    "#Abro la prescripcion nueva para visualizar\n",
    "\n",
    "# backend.open_pdf_with_chrome(pdfname)\n",
    "\n"
   ]
  }
 ],
 "metadata": {
  "kernelspec": {
   "display_name": "Python 3",
   "language": "python",
   "name": "python3"
  },
  "language_info": {
   "codemirror_mode": {
    "name": "ipython",
    "version": 3
   },
   "file_extension": ".py",
   "mimetype": "text/x-python",
   "name": "python",
   "nbconvert_exporter": "python",
   "pygments_lexer": "ipython3",
   "version": "3.11.4"
  }
 },
 "nbformat": 4,
 "nbformat_minor": 2
}
