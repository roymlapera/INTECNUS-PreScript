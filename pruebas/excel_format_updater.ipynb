{
 "cells": [
  {
   "cell_type": "code",
   "execution_count": 17,
   "metadata": {},
   "outputs": [],
   "source": [
    "import openpyxl\n",
    "from openpyxl.worksheet.table import Table, TableStyleInfo"
   ]
  },
  {
   "cell_type": "code",
   "execution_count": 2,
   "metadata": {},
   "outputs": [],
   "source": [
    "# Diccionario con las keys y sus valores correspondientes\n",
    "replacements = {\n",
    "    \"dvh_inferior_abs\": \"V(D)>V_%\",\n",
    "    \"dvh_superior_abs\": \"V(D)<V_%\",\n",
    "    \"mean_abs\": \"Dmedia\",\n",
    "    \"max_abs\": \"Dmax\",\n",
    "    \"dvh_superior_abs_abs\": \"V(D)<V_cc\",\n",
    "    \"dvh_vol_sup_percent_abs\": \"D(V_%)<D\",\n",
    "    \"dvh_vol_inf_percent_abs\": \"D(V_%)>D\",\n",
    "    \"dvh_vol_sup_abs_abs\": \"D(V_cc)<D\",\n",
    "    \"dvh_vol_inf_abs_abs\": \"D(V_cc)>D\",\n",
    "    \"dvh_superior_percent\": \"ACTUALIZAR\",\n",
    "    \"dvh_inferior_percent\": \"ACTUALIZAR\",\n",
    "    \"mean_percent\": \"ACTUALIZAR\",\n",
    "    \"max_percent\": \"ACTUALIZAR\",\n",
    "}\n",
    "\n",
    "def replace_text_in_excel(file_path):\n",
    "    # Cargar el archivo de Excel\n",
    "    workbook = openpyxl.load_workbook(file_path)\n",
    "\n",
    "    # Iterar sobre todas las pestañas del archivo\n",
    "    for sheet in workbook.sheetnames:\n",
    "        worksheet = workbook[sheet]\n",
    "\n",
    "        # Iterar sobre todas las celdas de la pestaña\n",
    "        for row in worksheet.iter_rows():\n",
    "            for cell in row:\n",
    "                # Verificar si la celda contiene texto\n",
    "                if cell.value and isinstance(cell.value, str):\n",
    "                    # Iterar sobre las keys del diccionario de reemplazos\n",
    "                    for key, value in replacements.items():\n",
    "                        # Reemplazar el texto de la celda si contiene la key\n",
    "                        if key in cell.value:\n",
    "                            cell.value = cell.value.replace(key, value)\n",
    "\n",
    "    # Guardar los cambios en el archivo de Excel\n",
    "    workbook.save(file_path)\n",
    "\n",
    "# Ejemplo de uso\n",
    "# replace_text_in_excel(\"Protocolo de constraints.xlsx\")"
   ]
  },
  {
   "cell_type": "code",
   "execution_count": 18,
   "metadata": {},
   "outputs": [
    {
     "ename": "FileNotFoundError",
     "evalue": "[Errno 2] No such file or directory: 'Protocolo de constraints.xlsx'",
     "output_type": "error",
     "traceback": [
      "\u001b[1;31m---------------------------------------------------------------------------\u001b[0m",
      "\u001b[1;31mFileNotFoundError\u001b[0m                         Traceback (most recent call last)",
      "Cell \u001b[1;32mIn[18], line 3\u001b[0m\n\u001b[0;32m      1\u001b[0m file \u001b[38;5;241m=\u001b[39m \u001b[38;5;124m\"\u001b[39m\u001b[38;5;124mProtocolo de constraints.xlsx\u001b[39m\u001b[38;5;124m\"\u001b[39m\n\u001b[1;32m----> 3\u001b[0m workbook \u001b[38;5;241m=\u001b[39m openpyxl\u001b[38;5;241m.\u001b[39mload_workbook(file)\n",
      "File \u001b[1;32mc:\\Users\\roy.lapera\\AppData\\Local\\anaconda3\\envs\\radio-env\\Lib\\site-packages\\openpyxl\\reader\\excel.py:315\u001b[0m, in \u001b[0;36mload_workbook\u001b[1;34m(filename, read_only, keep_vba, data_only, keep_links)\u001b[0m\n\u001b[0;32m    288\u001b[0m \u001b[38;5;28;01mdef\u001b[39;00m \u001b[38;5;21mload_workbook\u001b[39m(filename, read_only\u001b[38;5;241m=\u001b[39m\u001b[38;5;28;01mFalse\u001b[39;00m, keep_vba\u001b[38;5;241m=\u001b[39mKEEP_VBA,\n\u001b[0;32m    289\u001b[0m                   data_only\u001b[38;5;241m=\u001b[39m\u001b[38;5;28;01mFalse\u001b[39;00m, keep_links\u001b[38;5;241m=\u001b[39m\u001b[38;5;28;01mTrue\u001b[39;00m):\n\u001b[0;32m    290\u001b[0m \u001b[38;5;250m    \u001b[39m\u001b[38;5;124;03m\"\"\"Open the given filename and return the workbook\u001b[39;00m\n\u001b[0;32m    291\u001b[0m \n\u001b[0;32m    292\u001b[0m \u001b[38;5;124;03m    :param filename: the path to open or a file-like object\u001b[39;00m\n\u001b[1;32m   (...)\u001b[0m\n\u001b[0;32m    313\u001b[0m \n\u001b[0;32m    314\u001b[0m \u001b[38;5;124;03m    \"\"\"\u001b[39;00m\n\u001b[1;32m--> 315\u001b[0m     reader \u001b[38;5;241m=\u001b[39m ExcelReader(filename, read_only, keep_vba,\n\u001b[0;32m    316\u001b[0m                         data_only, keep_links)\n\u001b[0;32m    317\u001b[0m     reader\u001b[38;5;241m.\u001b[39mread()\n\u001b[0;32m    318\u001b[0m     \u001b[38;5;28;01mreturn\u001b[39;00m reader\u001b[38;5;241m.\u001b[39mwb\n",
      "File \u001b[1;32mc:\\Users\\roy.lapera\\AppData\\Local\\anaconda3\\envs\\radio-env\\Lib\\site-packages\\openpyxl\\reader\\excel.py:124\u001b[0m, in \u001b[0;36mExcelReader.__init__\u001b[1;34m(self, fn, read_only, keep_vba, data_only, keep_links)\u001b[0m\n\u001b[0;32m    122\u001b[0m \u001b[38;5;28;01mdef\u001b[39;00m \u001b[38;5;21m__init__\u001b[39m(\u001b[38;5;28mself\u001b[39m,  fn, read_only\u001b[38;5;241m=\u001b[39m\u001b[38;5;28;01mFalse\u001b[39;00m, keep_vba\u001b[38;5;241m=\u001b[39mKEEP_VBA,\n\u001b[0;32m    123\u001b[0m               data_only\u001b[38;5;241m=\u001b[39m\u001b[38;5;28;01mFalse\u001b[39;00m, keep_links\u001b[38;5;241m=\u001b[39m\u001b[38;5;28;01mTrue\u001b[39;00m):\n\u001b[1;32m--> 124\u001b[0m     \u001b[38;5;28mself\u001b[39m\u001b[38;5;241m.\u001b[39marchive \u001b[38;5;241m=\u001b[39m _validate_archive(fn)\n\u001b[0;32m    125\u001b[0m     \u001b[38;5;28mself\u001b[39m\u001b[38;5;241m.\u001b[39mvalid_files \u001b[38;5;241m=\u001b[39m \u001b[38;5;28mself\u001b[39m\u001b[38;5;241m.\u001b[39marchive\u001b[38;5;241m.\u001b[39mnamelist()\n\u001b[0;32m    126\u001b[0m     \u001b[38;5;28mself\u001b[39m\u001b[38;5;241m.\u001b[39mread_only \u001b[38;5;241m=\u001b[39m read_only\n",
      "File \u001b[1;32mc:\\Users\\roy.lapera\\AppData\\Local\\anaconda3\\envs\\radio-env\\Lib\\site-packages\\openpyxl\\reader\\excel.py:96\u001b[0m, in \u001b[0;36m_validate_archive\u001b[1;34m(filename)\u001b[0m\n\u001b[0;32m     89\u001b[0m             msg \u001b[38;5;241m=\u001b[39m (\u001b[38;5;124m'\u001b[39m\u001b[38;5;124mopenpyxl does not support \u001b[39m\u001b[38;5;132;01m%s\u001b[39;00m\u001b[38;5;124m file format, \u001b[39m\u001b[38;5;124m'\u001b[39m\n\u001b[0;32m     90\u001b[0m                    \u001b[38;5;124m'\u001b[39m\u001b[38;5;124mplease check you can open \u001b[39m\u001b[38;5;124m'\u001b[39m\n\u001b[0;32m     91\u001b[0m                    \u001b[38;5;124m'\u001b[39m\u001b[38;5;124mit with Excel first. \u001b[39m\u001b[38;5;124m'\u001b[39m\n\u001b[0;32m     92\u001b[0m                    \u001b[38;5;124m'\u001b[39m\u001b[38;5;124mSupported formats are: \u001b[39m\u001b[38;5;132;01m%s\u001b[39;00m\u001b[38;5;124m'\u001b[39m) \u001b[38;5;241m%\u001b[39m (file_format,\n\u001b[0;32m     93\u001b[0m                                                    \u001b[38;5;124m'\u001b[39m\u001b[38;5;124m,\u001b[39m\u001b[38;5;124m'\u001b[39m\u001b[38;5;241m.\u001b[39mjoin(SUPPORTED_FORMATS))\n\u001b[0;32m     94\u001b[0m         \u001b[38;5;28;01mraise\u001b[39;00m InvalidFileException(msg)\n\u001b[1;32m---> 96\u001b[0m archive \u001b[38;5;241m=\u001b[39m ZipFile(filename, \u001b[38;5;124m'\u001b[39m\u001b[38;5;124mr\u001b[39m\u001b[38;5;124m'\u001b[39m)\n\u001b[0;32m     97\u001b[0m \u001b[38;5;28;01mreturn\u001b[39;00m archive\n",
      "File \u001b[1;32mc:\\Users\\roy.lapera\\AppData\\Local\\anaconda3\\envs\\radio-env\\Lib\\zipfile.py:1284\u001b[0m, in \u001b[0;36mZipFile.__init__\u001b[1;34m(self, file, mode, compression, allowZip64, compresslevel, strict_timestamps, metadata_encoding)\u001b[0m\n\u001b[0;32m   1282\u001b[0m \u001b[38;5;28;01mwhile\u001b[39;00m \u001b[38;5;28;01mTrue\u001b[39;00m:\n\u001b[0;32m   1283\u001b[0m     \u001b[38;5;28;01mtry\u001b[39;00m:\n\u001b[1;32m-> 1284\u001b[0m         \u001b[38;5;28mself\u001b[39m\u001b[38;5;241m.\u001b[39mfp \u001b[38;5;241m=\u001b[39m io\u001b[38;5;241m.\u001b[39mopen(file, filemode)\n\u001b[0;32m   1285\u001b[0m     \u001b[38;5;28;01mexcept\u001b[39;00m \u001b[38;5;167;01mOSError\u001b[39;00m:\n\u001b[0;32m   1286\u001b[0m         \u001b[38;5;28;01mif\u001b[39;00m filemode \u001b[38;5;129;01min\u001b[39;00m modeDict:\n",
      "\u001b[1;31mFileNotFoundError\u001b[0m: [Errno 2] No such file or directory: 'Protocolo de constraints.xlsx'"
     ]
    }
   ],
   "source": [
    "file = \"Protocolo de constraints.xlsx\"\n",
    "\n",
    "workbook = openpyxl.load_workbook(file)"
   ]
  },
  {
   "cell_type": "code",
   "execution_count": 5,
   "metadata": {},
   "outputs": [],
   "source": [
    "start_cell = 'G4'\n",
    "end_cell = 'G5' \n",
    "table_range = f\"{start_cell}:{end_cell}\"\n",
    "\n",
    "# Definir el estilo de la tabla\n",
    "style = TableStyleInfo(\n",
    "    name=\"TableStyleLight14\",  # TableStyleLight14 es un estilo de tabla amarillo\n",
    "    showFirstColumn=False,\n",
    "    showLastColumn=False,\n",
    "    showRowStripes=True,\n",
    "    showColumnStripes=True\n",
    ")"
   ]
  },
  {
   "cell_type": "code",
   "execution_count": 16,
   "metadata": {},
   "outputs": [
    {
     "ename": "FileNotFoundError",
     "evalue": "[Errno 2] No such file or directory: 'Protocolo de constraints2.xlsx'",
     "output_type": "error",
     "traceback": [
      "\u001b[1;31m---------------------------------------------------------------------------\u001b[0m",
      "\u001b[1;31mFileNotFoundError\u001b[0m                         Traceback (most recent call last)",
      "Cell \u001b[1;32mIn[16], line 1\u001b[0m\n\u001b[1;32m----> 1\u001b[0m workbook \u001b[38;5;241m=\u001b[39m openpyxl\u001b[38;5;241m.\u001b[39mload_workbook(output_file)\n\u001b[0;32m      3\u001b[0m sheetnames \u001b[38;5;241m=\u001b[39m workbook\u001b[38;5;241m.\u001b[39msheetnames[\u001b[38;5;241m1\u001b[39m:]\n\u001b[0;32m      4\u001b[0m \u001b[38;5;28mprint\u001b[39m(sheetnames)\n",
      "File \u001b[1;32mc:\\Users\\roy.lapera\\AppData\\Local\\anaconda3\\envs\\radio-env\\Lib\\site-packages\\openpyxl\\reader\\excel.py:315\u001b[0m, in \u001b[0;36mload_workbook\u001b[1;34m(filename, read_only, keep_vba, data_only, keep_links)\u001b[0m\n\u001b[0;32m    288\u001b[0m \u001b[38;5;28;01mdef\u001b[39;00m \u001b[38;5;21mload_workbook\u001b[39m(filename, read_only\u001b[38;5;241m=\u001b[39m\u001b[38;5;28;01mFalse\u001b[39;00m, keep_vba\u001b[38;5;241m=\u001b[39mKEEP_VBA,\n\u001b[0;32m    289\u001b[0m                   data_only\u001b[38;5;241m=\u001b[39m\u001b[38;5;28;01mFalse\u001b[39;00m, keep_links\u001b[38;5;241m=\u001b[39m\u001b[38;5;28;01mTrue\u001b[39;00m):\n\u001b[0;32m    290\u001b[0m \u001b[38;5;250m    \u001b[39m\u001b[38;5;124;03m\"\"\"Open the given filename and return the workbook\u001b[39;00m\n\u001b[0;32m    291\u001b[0m \n\u001b[0;32m    292\u001b[0m \u001b[38;5;124;03m    :param filename: the path to open or a file-like object\u001b[39;00m\n\u001b[1;32m   (...)\u001b[0m\n\u001b[0;32m    313\u001b[0m \n\u001b[0;32m    314\u001b[0m \u001b[38;5;124;03m    \"\"\"\u001b[39;00m\n\u001b[1;32m--> 315\u001b[0m     reader \u001b[38;5;241m=\u001b[39m ExcelReader(filename, read_only, keep_vba,\n\u001b[0;32m    316\u001b[0m                         data_only, keep_links)\n\u001b[0;32m    317\u001b[0m     reader\u001b[38;5;241m.\u001b[39mread()\n\u001b[0;32m    318\u001b[0m     \u001b[38;5;28;01mreturn\u001b[39;00m reader\u001b[38;5;241m.\u001b[39mwb\n",
      "File \u001b[1;32mc:\\Users\\roy.lapera\\AppData\\Local\\anaconda3\\envs\\radio-env\\Lib\\site-packages\\openpyxl\\reader\\excel.py:124\u001b[0m, in \u001b[0;36mExcelReader.__init__\u001b[1;34m(self, fn, read_only, keep_vba, data_only, keep_links)\u001b[0m\n\u001b[0;32m    122\u001b[0m \u001b[38;5;28;01mdef\u001b[39;00m \u001b[38;5;21m__init__\u001b[39m(\u001b[38;5;28mself\u001b[39m,  fn, read_only\u001b[38;5;241m=\u001b[39m\u001b[38;5;28;01mFalse\u001b[39;00m, keep_vba\u001b[38;5;241m=\u001b[39mKEEP_VBA,\n\u001b[0;32m    123\u001b[0m               data_only\u001b[38;5;241m=\u001b[39m\u001b[38;5;28;01mFalse\u001b[39;00m, keep_links\u001b[38;5;241m=\u001b[39m\u001b[38;5;28;01mTrue\u001b[39;00m):\n\u001b[1;32m--> 124\u001b[0m     \u001b[38;5;28mself\u001b[39m\u001b[38;5;241m.\u001b[39marchive \u001b[38;5;241m=\u001b[39m _validate_archive(fn)\n\u001b[0;32m    125\u001b[0m     \u001b[38;5;28mself\u001b[39m\u001b[38;5;241m.\u001b[39mvalid_files \u001b[38;5;241m=\u001b[39m \u001b[38;5;28mself\u001b[39m\u001b[38;5;241m.\u001b[39marchive\u001b[38;5;241m.\u001b[39mnamelist()\n\u001b[0;32m    126\u001b[0m     \u001b[38;5;28mself\u001b[39m\u001b[38;5;241m.\u001b[39mread_only \u001b[38;5;241m=\u001b[39m read_only\n",
      "File \u001b[1;32mc:\\Users\\roy.lapera\\AppData\\Local\\anaconda3\\envs\\radio-env\\Lib\\site-packages\\openpyxl\\reader\\excel.py:96\u001b[0m, in \u001b[0;36m_validate_archive\u001b[1;34m(filename)\u001b[0m\n\u001b[0;32m     89\u001b[0m             msg \u001b[38;5;241m=\u001b[39m (\u001b[38;5;124m'\u001b[39m\u001b[38;5;124mopenpyxl does not support \u001b[39m\u001b[38;5;132;01m%s\u001b[39;00m\u001b[38;5;124m file format, \u001b[39m\u001b[38;5;124m'\u001b[39m\n\u001b[0;32m     90\u001b[0m                    \u001b[38;5;124m'\u001b[39m\u001b[38;5;124mplease check you can open \u001b[39m\u001b[38;5;124m'\u001b[39m\n\u001b[0;32m     91\u001b[0m                    \u001b[38;5;124m'\u001b[39m\u001b[38;5;124mit with Excel first. \u001b[39m\u001b[38;5;124m'\u001b[39m\n\u001b[0;32m     92\u001b[0m                    \u001b[38;5;124m'\u001b[39m\u001b[38;5;124mSupported formats are: \u001b[39m\u001b[38;5;132;01m%s\u001b[39;00m\u001b[38;5;124m'\u001b[39m) \u001b[38;5;241m%\u001b[39m (file_format,\n\u001b[0;32m     93\u001b[0m                                                    \u001b[38;5;124m'\u001b[39m\u001b[38;5;124m,\u001b[39m\u001b[38;5;124m'\u001b[39m\u001b[38;5;241m.\u001b[39mjoin(SUPPORTED_FORMATS))\n\u001b[0;32m     94\u001b[0m         \u001b[38;5;28;01mraise\u001b[39;00m InvalidFileException(msg)\n\u001b[1;32m---> 96\u001b[0m archive \u001b[38;5;241m=\u001b[39m ZipFile(filename, \u001b[38;5;124m'\u001b[39m\u001b[38;5;124mr\u001b[39m\u001b[38;5;124m'\u001b[39m)\n\u001b[0;32m     97\u001b[0m \u001b[38;5;28;01mreturn\u001b[39;00m archive\n",
      "File \u001b[1;32mc:\\Users\\roy.lapera\\AppData\\Local\\anaconda3\\envs\\radio-env\\Lib\\zipfile.py:1284\u001b[0m, in \u001b[0;36mZipFile.__init__\u001b[1;34m(self, file, mode, compression, allowZip64, compresslevel, strict_timestamps, metadata_encoding)\u001b[0m\n\u001b[0;32m   1282\u001b[0m \u001b[38;5;28;01mwhile\u001b[39;00m \u001b[38;5;28;01mTrue\u001b[39;00m:\n\u001b[0;32m   1283\u001b[0m     \u001b[38;5;28;01mtry\u001b[39;00m:\n\u001b[1;32m-> 1284\u001b[0m         \u001b[38;5;28mself\u001b[39m\u001b[38;5;241m.\u001b[39mfp \u001b[38;5;241m=\u001b[39m io\u001b[38;5;241m.\u001b[39mopen(file, filemode)\n\u001b[0;32m   1285\u001b[0m     \u001b[38;5;28;01mexcept\u001b[39;00m \u001b[38;5;167;01mOSError\u001b[39;00m:\n\u001b[0;32m   1286\u001b[0m         \u001b[38;5;28;01mif\u001b[39;00m filemode \u001b[38;5;129;01min\u001b[39;00m modeDict:\n",
      "\u001b[1;31mFileNotFoundError\u001b[0m: [Errno 2] No such file or directory: 'Protocolo de constraints2.xlsx'"
     ]
    }
   ],
   "source": [
    "workbook = openpyxl.load_workbook(output_file)\n",
    "\n",
    "sheetnames = workbook.sheetnames[1:]\n",
    "print(sheetnames)"
   ]
  },
  {
   "cell_type": "code",
   "execution_count": 6,
   "metadata": {},
   "outputs": [],
   "source": [
    "\n",
    "\n",
    "\n",
    "for i,sheet in enumerate(sheetnames):\n",
    "    worksheet = workbook[sheet]\n",
    "\n",
    "    worksheet['E4'] = 'Nro de etapa'\n",
    "    worksheet['F5'] = ''\n",
    "    worksheet['G4'] = 'Protocolo Imágenes'\n",
    "    table = Table(displayName=f'T{i}', ref=table_range)\n",
    "    table.tableStyleInfo = style\n",
    "    worksheet.add_table(table)\n",
    "\n",
    "\n",
    "# Guardar los cambios en el archivo de Excel\n",
    "workbook.save(output_file)"
   ]
  },
  {
   "cell_type": "code",
   "execution_count": 15,
   "metadata": {},
   "outputs": [],
   "source": [
    "from openpyxl import load_workbook\n",
    "from openpyxl.drawing.image import Image\n",
    "from PIL import Image as PILImage\n",
    "\n",
    "def insert_image_in_top_left_corner(excel_file, image_file, output_file):\n",
    "    # Cargar el archivo de Excel\n",
    "    wb = load_workbook(excel_file)\n",
    "\n",
    "    # Cargar la imagen usando PIL\n",
    "    pil_img = PILImage.open(image_file)\n",
    "    \n",
    "    # Guardar la imagen como un archivo temporal en un formato compatible con openpyxl\n",
    "    temp_image_path = \"temp_image.png\"\n",
    "    pil_img.save(temp_image_path)\n",
    "    img_to_insert = Image(temp_image_path)\n",
    "\n",
    "    # Iterar sobre todas las hojas y ajustar la imagen y la altura de la fila\n",
    "    for sheet in wb.sheetnames:\n",
    "        ws = wb[sheet]\n",
    "        \n",
    "        # Insertar la imagen en la esquina superior izquierda del spreadsheet\n",
    "        # img_to_insert.anchor = 'A1'\n",
    "        # ws.add_image(img_to_insert)\n",
    "\n",
    "        # Ajustar la altura de la fila 1 a 255.75 puntos\n",
    "        ws.row_dimensions[1].height = 255.75\n",
    "\n",
    "    # Guardar el archivo de salida\n",
    "    wb.save(output_file)\n",
    "\n",
    "# Usar la función\n",
    "image_file = 'CALIDAD EXCEL CONSTRAINTS.png'    # Cambia esto por la ruta de tu archivo de imagen\n",
    "output_file = 'Protocolo de constraints2.xlsx'  # Cambia esto por la ruta del archivo de salida\n",
    "\n",
    "insert_image_in_top_left_corner(file, image_file, output_file)\n"
   ]
  }
 ],
 "metadata": {
  "kernelspec": {
   "display_name": "prescript-env",
   "language": "python",
   "name": "python3"
  },
  "language_info": {
   "codemirror_mode": {
    "name": "ipython",
    "version": 3
   },
   "file_extension": ".py",
   "mimetype": "text/x-python",
   "name": "python",
   "nbconvert_exporter": "python",
   "pygments_lexer": "ipython3",
   "version": "3.11.4"
  }
 },
 "nbformat": 4,
 "nbformat_minor": 2
}
