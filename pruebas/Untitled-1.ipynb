{
 "cells": [
  {
   "cell_type": "code",
   "execution_count": 1,
   "metadata": {},
   "outputs": [],
   "source": [
    "import customtkinter as ctk\n",
    "from tkinter import messagebox\n",
    "\n",
    "class App(ctk.CTk):\n",
    "    def __init__(self):\n",
    "        super().__init__()\n",
    "\n",
    "        self.title(\"Dropdown Example\")\n",
    "        self.geometry(\"300x200\")\n",
    "\n",
    "        # Options for the dropdown\n",
    "        self.options = [\"Option 1\", \"Option 2\", \"Option 3\"]\n",
    "\n",
    "        # Variable to store the selected option\n",
    "        self.selected_option = ctk.StringVar(value=self.options[0])\n",
    "\n",
    "        # Create the dropdown menu\n",
    "        self.dropdown = ctk.CTkOptionMenu(\n",
    "            self,\n",
    "            values=self.options,\n",
    "            variable=self.selected_option\n",
    "        )\n",
    "        self.dropdown.pack(pady=20)\n",
    "\n",
    "        # Create the button\n",
    "        self.button = ctk.CTkButton(\n",
    "            self,\n",
    "            text=\"Show Selected Option\",\n",
    "            command=self.show_selected_option\n",
    "        )\n",
    "        self.button.pack(pady=20)\n",
    "\n",
    "    def show_selected_option(self):\n",
    "        selected = self.selected_option.get()\n",
    "        messagebox.showinfo(\"Selected Option\", f\"You selected: {selected}\")\n",
    "\n",
    "if __name__ == \"__main__\":\n",
    "    app = App()\n",
    "    app.mainloop()"
   ]
  }
 ],
 "metadata": {
  "kernelspec": {
   "display_name": "Python 3",
   "language": "python",
   "name": "python3"
  },
  "language_info": {
   "codemirror_mode": {
    "name": "ipython",
    "version": 3
   },
   "file_extension": ".py",
   "mimetype": "text/x-python",
   "name": "python",
   "nbconvert_exporter": "python",
   "pygments_lexer": "ipython3",
   "version": "3.11.4"
  }
 },
 "nbformat": 4,
 "nbformat_minor": 2
}
